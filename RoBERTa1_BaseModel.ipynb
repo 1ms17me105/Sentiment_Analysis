{
 "cells": [
  {
   "cell_type": "code",
   "execution_count": 2,
   "id": "d5e46cdd-3188-48f6-af4d-bcd824ecd355",
   "metadata": {},
   "outputs": [],
   "source": [
    "# !pip install transformers\n",
    "# !pip install accelerate"
   ]
  },
  {
   "cell_type": "code",
   "execution_count": 3,
   "id": "345eeebf-95dd-490a-b1ff-51e84dc54aa7",
   "metadata": {},
   "outputs": [],
   "source": [
    "import numpy as np\n",
    "import pandas as pd\n",
    "import torch\n",
    "from transformers import RobertaTokenizerFast, RobertaForSequenceClassification\n",
    "from torch.utils.data import Dataset, DataLoader"
   ]
  },
  {
   "cell_type": "code",
   "execution_count": null,
   "id": "ed3f4e06-5dea-42f4-acc7-a69d1791667a",
   "metadata": {},
   "outputs": [],
   "source": [
    "from google.colab import drive\n",
    "drive.mount(\"/content/drive\")"
   ]
  },
  {
   "cell_type": "code",
   "execution_count": null,
   "id": "6a1d3a96-1c53-422a-98f2-1c20b0083293",
   "metadata": {},
   "outputs": [],
   "source": [
    "device = \"cuda\" if torch.cuda.is_available() else \"cpu\"\n",
    "print(device)"
   ]
  },
  {
   "cell_type": "code",
   "execution_count": null,
   "id": "05aa8344-5bfc-4e31-9c67-a51703eabdc0",
   "metadata": {},
   "outputs": [],
   "source": [
    "reviews = pd.read_csv(\"/content/drive/MyDrive/Transformers/Sentiment_Analysis/Movies_Dataset/movie_data.csv\")\n",
    "reviews.head()"
   ]
  },
  {
   "cell_type": "code",
   "execution_count": null,
   "id": "c8f5b68c-5c33-432c-b109-a90aed408580",
   "metadata": {},
   "outputs": [],
   "source": [
    "test_text = reviews.iloc[40000:, 0].tolist()\n",
    "test_label = reviews.iloc[40000:, 1].values"
   ]
  },
  {
   "cell_type": "code",
   "execution_count": 12,
   "id": "10fdb9e3-1f42-4433-846b-cbf039dc71c8",
   "metadata": {},
   "outputs": [],
   "source": [
    "model_name = \"siebert/sentiment-roberta-large-english\""
   ]
  },
  {
   "cell_type": "code",
   "execution_count": null,
   "id": "d4c46b62-ad17-43b0-9649-5794710160dc",
   "metadata": {},
   "outputs": [],
   "source": [
    "tokenizer = RobertaTokenizerFast.from_pretrained(model_name)"
   ]
  },
  {
   "cell_type": "code",
   "execution_count": null,
   "id": "31646d57-2490-4ba7-bfdd-7a615581af07",
   "metadata": {},
   "outputs": [],
   "source": [
    "test_embedding = tokenizer(test_text, padding = True, truncation = True, max_length = 512)"
   ]
  },
  {
   "cell_type": "code",
   "execution_count": null,
   "id": "51a30983-0b15-431c-80e7-281f80205ee3",
   "metadata": {},
   "outputs": [],
   "source": [
    "class ReviewsDataset(Dataset):\n",
    "    def __init__(self, embedding, label):\n",
    "        self.embedding = embedding\n",
    "        self.label = label\n",
    "\n",
    "    def __len__(self):\n",
    "        return len(self.label)\n",
    "\n",
    "    def __getitem__(self, idx):\n",
    "        item = {key: torch.tensor(val[idx]) for key, val in self.embedding.items()}\n",
    "        item[\"label\"] = torch.tensor(self.label[idx])\n",
    "        return item"
   ]
  },
  {
   "cell_type": "code",
   "execution_count": null,
   "id": "9a559b05-ac23-4ac8-81e7-fb9bd1be6900",
   "metadata": {},
   "outputs": [],
   "source": [
    "test_dataset = ReviewsDataset(test_embedding, test_label)"
   ]
  },
  {
   "cell_type": "code",
   "execution_count": null,
   "id": "a9f74662-8145-42e5-8340-0431cd07f70f",
   "metadata": {},
   "outputs": [],
   "source": [
    "test_loader = DataLoader(test_dataset, batch_size = 32, shuffle = True, drop_last = True)"
   ]
  },
  {
   "cell_type": "code",
   "execution_count": null,
   "id": "48b54464-f295-43fe-a363-6b4fe8d42dc4",
   "metadata": {},
   "outputs": [],
   "source": [
    "model = RobertaForSequenceClassification.from_pretrained(model_name)"
   ]
  },
  {
   "cell_type": "code",
   "execution_count": null,
   "id": "ea6b328e-238c-4402-9ba3-50a1b0a329fb",
   "metadata": {},
   "outputs": [],
   "source": [
    "model.to(device)"
   ]
  },
  {
   "cell_type": "code",
   "execution_count": null,
   "id": "fd52abc6-c587-4355-bb0a-7e0d9c7cf242",
   "metadata": {},
   "outputs": [],
   "source": [
    "def check_accuracy(model, data_loader, device):\n",
    "\n",
    "    with torch.no_grad():\n",
    "\n",
    "        correct, total = 0, 0\n",
    "\n",
    "        for batch in data_loader:\n",
    "\n",
    "            embeddings = batch[\"input_ids\"].to(device)\n",
    "            attention_mask = batch[\"attention_mask\"].to(device)\n",
    "            labels = batch[\"label\"].to(device)\n",
    "\n",
    "            outputs = model(embeddings, attention_mask = attention_mask, labels = labels)\n",
    "            loss, logits = outputs[\"loss\"], outputs[\"logits\"]\n",
    "\n",
    "            _, predicted_labels = torch.max(logits, 1)\n",
    "            correct += (predicted_labels == labels).sum()\n",
    "            total += labels.size(0)\n",
    "\n",
    "    return (correct.float() / total) * 100"
   ]
  },
  {
   "cell_type": "code",
   "execution_count": null,
   "id": "ac7e4650-ca58-4763-a69d-8154d4a4af5e",
   "metadata": {},
   "outputs": [],
   "source": [
    "model.eval()\n",
    "model.to(device)\n",
    "\n",
    "print(f'Test accuracy: {check_accuracy(model, test_loader, device):.2f}%')"
   ]
  }
 ],
 "metadata": {
  "kernelspec": {
   "display_name": "Python 3 (ipykernel)",
   "language": "python",
   "name": "python3"
  },
  "language_info": {
   "codemirror_mode": {
    "name": "ipython",
    "version": 3
   },
   "file_extension": ".py",
   "mimetype": "text/x-python",
   "name": "python",
   "nbconvert_exporter": "python",
   "pygments_lexer": "ipython3",
   "version": "3.10.10"
  }
 },
 "nbformat": 4,
 "nbformat_minor": 5
}
