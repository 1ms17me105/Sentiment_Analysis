{
 "cells": [
  {
   "cell_type": "code",
   "execution_count": 1,
   "id": "588fe5c8-54c5-4055-97e1-ea3da90118d9",
   "metadata": {},
   "outputs": [],
   "source": [
    "import numpy as np\n",
    "import pandas as pd\n",
    "from transformers import pipeline\n",
    "from icecream import ic\n",
    "from transformers import AutoTokenizer, AutoModelForSequenceClassification\n",
    "import torch\n",
    "import torch.nn.functional as F"
   ]
  },
  {
   "cell_type": "code",
   "execution_count": 2,
   "id": "39528464-d89d-4892-ab99-0cfa43fcb8b1",
   "metadata": {},
   "outputs": [],
   "source": [
    "reviews_raw = pd.read_csv(\"movie_data.csv\")"
   ]
  },
  {
   "cell_type": "code",
   "execution_count": 3,
   "id": "3a7fb89b-168b-49ef-a025-427eed602dc5",
   "metadata": {},
   "outputs": [
    {
     "data": {
      "text/html": [
       "<div>\n",
       "<style scoped>\n",
       "    .dataframe tbody tr th:only-of-type {\n",
       "        vertical-align: middle;\n",
       "    }\n",
       "\n",
       "    .dataframe tbody tr th {\n",
       "        vertical-align: top;\n",
       "    }\n",
       "\n",
       "    .dataframe thead th {\n",
       "        text-align: right;\n",
       "    }\n",
       "</style>\n",
       "<table border=\"1\" class=\"dataframe\">\n",
       "  <thead>\n",
       "    <tr style=\"text-align: right;\">\n",
       "      <th></th>\n",
       "      <th>review</th>\n",
       "      <th>sentiment</th>\n",
       "    </tr>\n",
       "  </thead>\n",
       "  <tbody>\n",
       "    <tr>\n",
       "      <th>0</th>\n",
       "      <td>In 1974, the teenager Martha Moxley (Maggie Gr...</td>\n",
       "      <td>1</td>\n",
       "    </tr>\n",
       "    <tr>\n",
       "      <th>1</th>\n",
       "      <td>OK... so... I really like Kris Kristofferson a...</td>\n",
       "      <td>0</td>\n",
       "    </tr>\n",
       "    <tr>\n",
       "      <th>2</th>\n",
       "      <td>***SPOILER*** Do not read this, if you think a...</td>\n",
       "      <td>0</td>\n",
       "    </tr>\n",
       "    <tr>\n",
       "      <th>3</th>\n",
       "      <td>hi for all the people who have seen this wonde...</td>\n",
       "      <td>1</td>\n",
       "    </tr>\n",
       "    <tr>\n",
       "      <th>4</th>\n",
       "      <td>I recently bought the DVD, forgetting just how...</td>\n",
       "      <td>0</td>\n",
       "    </tr>\n",
       "    <tr>\n",
       "      <th>...</th>\n",
       "      <td>...</td>\n",
       "      <td>...</td>\n",
       "    </tr>\n",
       "    <tr>\n",
       "      <th>49995</th>\n",
       "      <td>OK, lets start with the best. the building. al...</td>\n",
       "      <td>0</td>\n",
       "    </tr>\n",
       "    <tr>\n",
       "      <th>49996</th>\n",
       "      <td>The British 'heritage film' industry is out of...</td>\n",
       "      <td>0</td>\n",
       "    </tr>\n",
       "    <tr>\n",
       "      <th>49997</th>\n",
       "      <td>I don't even know where to begin on this one. ...</td>\n",
       "      <td>0</td>\n",
       "    </tr>\n",
       "    <tr>\n",
       "      <th>49998</th>\n",
       "      <td>Richard Tyler is a little boy who is scared of...</td>\n",
       "      <td>0</td>\n",
       "    </tr>\n",
       "    <tr>\n",
       "      <th>49999</th>\n",
       "      <td>I waited long to watch this movie. Also becaus...</td>\n",
       "      <td>1</td>\n",
       "    </tr>\n",
       "  </tbody>\n",
       "</table>\n",
       "<p>50000 rows × 2 columns</p>\n",
       "</div>"
      ],
      "text/plain": [
       "                                                  review  sentiment\n",
       "0      In 1974, the teenager Martha Moxley (Maggie Gr...          1\n",
       "1      OK... so... I really like Kris Kristofferson a...          0\n",
       "2      ***SPOILER*** Do not read this, if you think a...          0\n",
       "3      hi for all the people who have seen this wonde...          1\n",
       "4      I recently bought the DVD, forgetting just how...          0\n",
       "...                                                  ...        ...\n",
       "49995  OK, lets start with the best. the building. al...          0\n",
       "49996  The British 'heritage film' industry is out of...          0\n",
       "49997  I don't even know where to begin on this one. ...          0\n",
       "49998  Richard Tyler is a little boy who is scared of...          0\n",
       "49999  I waited long to watch this movie. Also becaus...          1\n",
       "\n",
       "[50000 rows x 2 columns]"
      ]
     },
     "execution_count": 3,
     "metadata": {},
     "output_type": "execute_result"
    }
   ],
   "source": [
    "reviews_raw"
   ]
  },
  {
   "cell_type": "code",
   "execution_count": 24,
   "id": "12ca27d9-dafe-4932-9fd2-5f6f7188642c",
   "metadata": {},
   "outputs": [],
   "source": [
    "reviews_sample = reviews_raw.sample(n = 500)"
   ]
  },
  {
   "cell_type": "code",
   "execution_count": 5,
   "id": "9b02c90b-7dbd-4fe4-ae7d-d5146f6ef384",
   "metadata": {},
   "outputs": [
    {
     "data": {
      "text/plain": [
       "sentiment\n",
       "0    52\n",
       "1    48\n",
       "Name: count, dtype: int64"
      ]
     },
     "execution_count": 5,
     "metadata": {},
     "output_type": "execute_result"
    }
   ],
   "source": [
    "reviews_sample.sentiment.value_counts()"
   ]
  },
  {
   "cell_type": "code",
   "execution_count": 6,
   "id": "cd49d749-653f-47db-b6ec-0d8189887134",
   "metadata": {},
   "outputs": [
    {
     "name": "stdout",
     "output_type": "stream",
     "text": [
      "Exactly what you would expect from a B-Movie. Deritive, gratuitous nudity, boring in parts, ridiculous gore and cheesy special-effects. Of course it could have been better, better acted (defintly) better written, directed, etc. But then I guess it wouldn't have been a B movie. The actors pretty much sucked, in fact this pretty much seemed like an episode of buffy the vampire slayer or something except with a lot of blood, profanity and nudity.<br /><br />Tiffany Shepis must be singled out. She absolutely is the scream queen of the new millennium. Not that acting really matters in these movies, but she was better than any of the other actors. She's also smokin hot, in that plastic jump suit thing she wore for the whole movie - wow! Her posterior is absolutely stunning in that outfit, I mean it every single time she turns around you can help but check her out. And near then end of the film the viewer is rewarded with seeing her completely nekked.<br /><br />So if your a looser b-movie horror buff (like myself), check this out. If not, you should probably avoid at all costs.\n"
     ]
    }
   ],
   "source": [
    "review1 = reviews_sample.iloc[2, 0]\n",
    "print(review1)"
   ]
  },
  {
   "cell_type": "code",
   "execution_count": 7,
   "id": "efad68fd-74fe-4fb1-ac2a-f64badf37c78",
   "metadata": {},
   "outputs": [],
   "source": [
    "reviews_list = reviews_sample.iloc[:, 0].tolist()"
   ]
  },
  {
   "cell_type": "code",
   "execution_count": 8,
   "id": "0f2e9262-eba2-4ccf-904d-12fad67798c4",
   "metadata": {},
   "outputs": [
    {
     "name": "stderr",
     "output_type": "stream",
     "text": [
      "No model was supplied, defaulted to distilbert-base-uncased-finetuned-sst-2-english and revision af0f99b (https://huggingface.co/distilbert-base-uncased-finetuned-sst-2-english).\n",
      "Using a pipeline without specifying a model name and revision in production is not recommended.\n"
     ]
    }
   ],
   "source": [
    "classifier = pipeline(\"sentiment-analysis\")\n",
    "result = classifier(review1)"
   ]
  },
  {
   "cell_type": "code",
   "execution_count": 9,
   "id": "8b857ed6-ea11-48d9-be76-aba8aa0aa718",
   "metadata": {},
   "outputs": [
    {
     "data": {
      "text/plain": [
       "[{'label': 'POSITIVE', 'score': 0.6249537467956543}]"
      ]
     },
     "execution_count": 9,
     "metadata": {},
     "output_type": "execute_result"
    }
   ],
   "source": [
    "result"
   ]
  },
  {
   "cell_type": "code",
   "execution_count": 10,
   "id": "8c664b62-2df8-444d-be68-fa2b405cb9df",
   "metadata": {},
   "outputs": [],
   "source": [
    "model_name = \"distilbert-base-uncased-finetuned-sst-2-english\"\n",
    "model = AutoModelForSequenceClassification.from_pretrained(model_name)\n",
    "tokenizer = AutoTokenizer.from_pretrained(model_name)"
   ]
  },
  {
   "cell_type": "code",
   "execution_count": 11,
   "id": "8d1ae49b-4b63-43de-9303-e4064f5f9010",
   "metadata": {},
   "outputs": [],
   "source": [
    "# batch = tokenizer(reviews_list, padding = True, truncation = True, max_length = 512)"
   ]
  },
  {
   "cell_type": "code",
   "execution_count": 12,
   "id": "2389147b-6d18-4bcf-b52e-0495ba08f175",
   "metadata": {},
   "outputs": [],
   "source": [
    "# with torch.no_grad():\n",
    "#     outputs = model(**batch)\n",
    "#     predictions = F.softmax(outputs.logits, dim = 1)\n",
    "#     labels = torch.argmax(predictions, dim = 1)"
   ]
  },
  {
   "cell_type": "code",
   "execution_count": 13,
   "id": "bdd38266-0fd4-4bc3-b450-3a3b7f389eb3",
   "metadata": {},
   "outputs": [],
   "source": [
    "# pred = [1 if i['label'] == 'POSITIVE' else 0 for i in result]\n",
    "# pred"
   ]
  },
  {
   "cell_type": "code",
   "execution_count": 14,
   "id": "2d400c3d-362f-465d-8a26-0f0624325087",
   "metadata": {},
   "outputs": [],
   "source": [
    "five_reviews = reviews_sample.iloc[:5, 0].tolist()"
   ]
  },
  {
   "cell_type": "code",
   "execution_count": 15,
   "id": "6b83116d-1546-454a-b6a4-d0f1dbcf015a",
   "metadata": {},
   "outputs": [],
   "source": [
    "token = tokenizer(five_reviews, padding = True, truncation = True, max_length = 512, return_tensors = \"pt\")"
   ]
  },
  {
   "cell_type": "code",
   "execution_count": 16,
   "id": "6b81b410-5e5d-4689-a6f3-780b4dda0834",
   "metadata": {},
   "outputs": [
    {
     "data": {
      "text/plain": [
       "tensor([[ 101, 1045, 3342,  ..., 1012, 1012,  102],\n",
       "        [ 101, 1045, 2228,  ...,    0,    0,    0],\n",
       "        [ 101, 3599, 2054,  ...,    0,    0,    0],\n",
       "        [ 101, 2043, 1045,  ...,    0,    0,    0],\n",
       "        [ 101, 1000, 1999,  ...,    0,    0,    0]])"
      ]
     },
     "execution_count": 16,
     "metadata": {},
     "output_type": "execute_result"
    }
   ],
   "source": [
    "token['input_ids']"
   ]
  },
  {
   "cell_type": "code",
   "execution_count": 18,
   "id": "1b5bb54d-de28-4ff1-925b-b26afb5cb700",
   "metadata": {},
   "outputs": [],
   "source": [
    "# with torch.no_grad():\n",
    "#     outputs = model(**token)\n",
    "#     probs = F.softmax(outputs.logits, dim = 1)\n",
    "#     pred = torch.argmax(probs, dim = 1)"
   ]
  },
  {
   "cell_type": "code",
   "execution_count": 17,
   "id": "10fcd92c-2ea6-4061-98a4-2fb39d8bd1d3",
   "metadata": {},
   "outputs": [],
   "source": [
    "# pred"
   ]
  },
  {
   "cell_type": "code",
   "execution_count": 19,
   "id": "86dbbd90-98ce-4886-af47-86fc266cca00",
   "metadata": {},
   "outputs": [],
   "source": [
    "# torch.sum(pred == torch.tensor(reviews_sample.iloc[:5, 1].tolist())).item()"
   ]
  },
  {
   "cell_type": "code",
   "execution_count": 25,
   "id": "7eed733a-c75e-47e3-9593-5f18e04942db",
   "metadata": {},
   "outputs": [],
   "source": [
    "correct = 0\n",
    "for i in range(5, 501, 5):\n",
    "    tokens = tokenizer(reviews_sample.iloc[i-5:i, 0].tolist(), padding = True, truncation = True, max_length = 512, return_tensors = \"pt\")\n",
    "    with torch.no_grad():\n",
    "        outputs = model(**tokens)\n",
    "        probs = F.softmax(outputs.logits, dim = 1)\n",
    "        pred = torch.argmax(probs, dim = 1)\n",
    "        correct += torch.sum(pred == torch.tensor(reviews_sample.iloc[i-5:i, 1].tolist())).item()"
   ]
  },
  {
   "cell_type": "code",
   "execution_count": 26,
   "id": "a8615fbc-92c9-49c4-ac32-680d70044fc6",
   "metadata": {},
   "outputs": [],
   "source": [
    "acc = correct/500"
   ]
  },
  {
   "cell_type": "code",
   "execution_count": 27,
   "id": "20e50743-f78d-4eba-b453-b1ca3592b56e",
   "metadata": {},
   "outputs": [
    {
     "data": {
      "text/plain": [
       "453"
      ]
     },
     "execution_count": 27,
     "metadata": {},
     "output_type": "execute_result"
    }
   ],
   "source": [
    "correct"
   ]
  },
  {
   "cell_type": "code",
   "execution_count": 28,
   "id": "cd3d9c75-8d20-4e18-bafd-05b7297d3550",
   "metadata": {},
   "outputs": [
    {
     "data": {
      "text/plain": [
       "0.906"
      ]
     },
     "execution_count": 28,
     "metadata": {},
     "output_type": "execute_result"
    }
   ],
   "source": [
    "acc"
   ]
  },
  {
   "cell_type": "markdown",
   "id": "edabbd15-e5ca-4793-b3f0-617c033a9095",
   "metadata": {},
   "source": [
    "#### Accuracy without fine tuning on 500 reviews = 90%"
   ]
  }
 ],
 "metadata": {
  "kernelspec": {
   "display_name": "Python 3 (ipykernel)",
   "language": "python",
   "name": "python3"
  },
  "language_info": {
   "codemirror_mode": {
    "name": "ipython",
    "version": 3
   },
   "file_extension": ".py",
   "mimetype": "text/x-python",
   "name": "python",
   "nbconvert_exporter": "python",
   "pygments_lexer": "ipython3",
   "version": "3.10.10"
  }
 },
 "nbformat": 4,
 "nbformat_minor": 5
}
